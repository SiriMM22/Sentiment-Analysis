{
  "nbformat": 4,
  "nbformat_minor": 0,
  "metadata": {
    "colab": {
      "provenance": []
    },
    "kernelspec": {
      "name": "python3",
      "display_name": "Python 3"
    },
    "language_info": {
      "name": "python"
    }
  },
  "cells": [
    {
      "cell_type": "markdown",
      "source": [
        "Text_Sentiment_Analysis Code:\n",
        "\n",
        "SIRI M M,\n",
        "Bangalore\n"
      ],
      "metadata": {
        "id": "uSfchDGurBEq"
      }
    },
    {
      "cell_type": "code",
      "execution_count": null,
      "metadata": {
        "id": "YkVSSkMjUobT"
      },
      "outputs": [],
      "source": [
        "import re\n",
        "import nltk\n",
        "from nltk.corpus import stopwords\n",
        "from nltk.stem import WordNetLemmatizer\n",
        "from sklearn.feature_extraction.text import CountVectorizer\n",
        "from sklearn.preprocessing import LabelEncoder\n",
        "from sklearn.ensemble import RandomForestClassifier\n",
        "from bs4 import BeautifulSoup"
      ]
    },
    {
      "cell_type": "markdown",
      "source": [
        "Downloading Packages:"
      ],
      "metadata": {
        "id": "eaJUBJ5NrpiY"
      }
    },
    {
      "cell_type": "code",
      "source": [
        "\n",
        "nltk.download('stopwords')\n",
        "nltk.download('wordnet')\n"
      ],
      "metadata": {
        "colab": {
          "base_uri": "https://localhost:8080/"
        },
        "id": "yg57s2mVWQDI",
        "outputId": "64eb1a25-6d40-461a-f8e0-fab741cb1180"
      },
      "execution_count": null,
      "outputs": [
        {
          "output_type": "stream",
          "name": "stderr",
          "text": [
            "[nltk_data] Downloading package stopwords to /root/nltk_data...\n",
            "[nltk_data]   Unzipping corpora/stopwords.zip.\n",
            "[nltk_data] Downloading package wordnet to /root/nltk_data...\n"
          ]
        },
        {
          "output_type": "execute_result",
          "data": {
            "text/plain": [
              "True"
            ]
          },
          "metadata": {},
          "execution_count": 3
        }
      ]
    },
    {
      "cell_type": "markdown",
      "source": [
        "Analysing Sentiments using Random Forest Classifier"
      ],
      "metadata": {
        "id": "MBXchYnMrysX"
      }
    },
    {
      "cell_type": "code",
      "source": [
        "\n",
        "class TextPreprocessor:\n",
        "    def __init__(self):\n",
        "        self.lemmatizer = WordNetLemmatizer()\n",
        "        self.stop_words = set(stopwords.words(\"english\"))\n",
        "\n",
        "    def preprocess(self, text):\n",
        "        text = BeautifulSoup(text, \"html.parser\").get_text()\n",
        "        words = text.lower().split()\n",
        "        words = [re.sub(r'[^a-zA-Z]', '', word) for word in words]\n",
        "        words = [self.lemmatizer.lemmatize(word) for word in words if word not in self.stop_words]\n",
        "        return \" \".join(words)\n",
        "\n",
        "class SentimentAnalyzer:\n",
        "    def __init__(self):\n",
        "        self.vectorizer = CountVectorizer()\n",
        "        self.label_encoder = LabelEncoder()\n",
        "        self.classifier = RandomForestClassifier()\n",
        "\n",
        "    def train(self, X, y):\n",
        "        X_vectorized = self.vectorizer.fit_transform(X)\n",
        "        y_encoded = self.label_encoder.fit_transform(y)\n",
        "        self.classifier.fit(X_vectorized, y_encoded)\n",
        "\n",
        "    def predict(self, statement):\n",
        "        statement_vectorized = self.vectorizer.transform([statement])\n",
        "        prediction = self.classifier.predict(statement_vectorized)\n",
        "        sentiment = self.label_encoder.inverse_transform(prediction)[0]\n",
        "        return sentiment\n",
        "\n",
        "data = [(\"I love this movie, it's amazing and cool!\", \"positive\"),(\"This movie is terrible, I hate it and it was awful.\", \"negative\"),(\"The plot was confusing, but the acting was great.\", \"neutral\"),(\"I like tasty food.\",\"positive\"),\n",
        " (\"The music was good, but the story was boring.\", \"neutral\"),(\"I enjoyed watching this, it made me happy.\", \"positive\"),(\"The ending was disappointing and hasty, I expected more.\", \"negative\"),(\"i am not so happy and joyful.\", \"negative\")\n",
        "]\n",
        "\n",
        "preprocessor = TextPreprocessor()\n",
        "processed_data = [(preprocessor.preprocess(text), sentiment) for text, sentiment in data]\n",
        "\n",
        "X = [text for text, _ in processed_data]\n",
        "y = [sentiment for _, sentiment in processed_data]\n",
        "\n",
        "analyzer = SentimentAnalyzer()\n",
        "analyzer.train(X, y)\n"
      ],
      "metadata": {
        "id": "xUwFXHP_VJJ4"
      },
      "execution_count": null,
      "outputs": []
    },
    {
      "cell_type": "markdown",
      "source": [
        "Testing the Sentiment predictions for our statements:"
      ],
      "metadata": {
        "id": "uwQTf-kfsJkZ"
      }
    },
    {
      "cell_type": "code",
      "source": [
        "test_statement = \"he was cool\"\n",
        "print(\"Predicted sentiment is analysed as :\", analyzer.predict(test_statement))\n"
      ],
      "metadata": {
        "id": "DJZSawpKWGb-",
        "colab": {
          "base_uri": "https://localhost:8080/"
        },
        "outputId": "d23c77c0-ec25-4b78-f24c-58645f5ce34e"
      },
      "execution_count": null,
      "outputs": [
        {
          "output_type": "stream",
          "name": "stdout",
          "text": [
            "Predicted sentiment is analysed as : negative\n"
          ]
        }
      ]
    },
    {
      "cell_type": "code",
      "source": [],
      "metadata": {
        "id": "Qb6kFadLq0Y-"
      },
      "execution_count": null,
      "outputs": []
    }
  ]
}